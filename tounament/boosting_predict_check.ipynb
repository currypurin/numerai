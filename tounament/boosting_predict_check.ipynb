{
 "cells": [
  {
   "cell_type": "markdown",
   "metadata": {
    "id": "DMwQ4S6rLr_Y"
   },
   "source": [
    "# 学習するroundにより、predictがどのように変化するかの確認"
   ]
  },
  {
   "cell_type": "code",
   "execution_count": 32,
   "metadata": {
    "_cell_guid": "b1076dfc-b9ad-4769-8c92-a6c4dae69d19",
    "_uuid": "8f2839f25d086af736a60e9eeb907d3b93b6e0e5",
    "execution": {
     "iopub.execute_input": "2021-12-16T14:24:42.733470Z",
     "iopub.status.busy": "2021-12-16T14:24:42.733229Z",
     "iopub.status.idle": "2021-12-16T14:25:03.806919Z",
     "shell.execute_reply": "2021-12-16T14:25:03.805818Z",
     "shell.execute_reply.started": "2021-12-16T14:24:42.733441Z"
    },
    "executionInfo": {
     "elapsed": 2973,
     "status": "ok",
     "timestamp": 1640935925152,
     "user": {
      "displayName": "村田秀樹",
      "photoUrl": "https://lh3.googleusercontent.com/a/default-user=s64",
      "userId": "10971275251993005322"
     },
     "user_tz": -540
    },
    "id": "V0a5vjw7iiwq"
   },
   "outputs": [],
   "source": [
    "!pip install numerapi -qq\n",
    "!pip install numpy-indexed -qq"
   ]
  },
  {
   "cell_type": "code",
   "execution_count": 1,
   "metadata": {
    "colab": {
     "base_uri": "https://localhost:8080/"
    },
    "execution": {
     "iopub.execute_input": "2021-12-16T14:39:48.484673Z",
     "iopub.status.busy": "2021-12-16T14:39:48.483970Z",
     "iopub.status.idle": "2021-12-16T14:39:48.505920Z",
     "shell.execute_reply": "2021-12-16T14:39:48.504923Z",
     "shell.execute_reply.started": "2021-12-16T14:39:48.484636Z"
    },
    "executionInfo": {
     "elapsed": 347,
     "status": "ok",
     "timestamp": 1640935928085,
     "user": {
      "displayName": "村田秀樹",
      "photoUrl": "https://lh3.googleusercontent.com/a/default-user=s64",
      "userId": "10971275251993005322"
     },
     "user_tz": -540
    },
    "id": "bHQCLvkCiiws",
    "outputId": "d21432cc-43f6-4093-eb78-eeea0aa230cf"
   },
   "outputs": [
    {
     "data": {
      "text/html": [
       "<style type='text/css'>\n",
       ".datatable table.frame { margin-bottom: 0; }\n",
       ".datatable table.frame thead { border-bottom: none; }\n",
       ".datatable table.frame tr.coltypes td {  color: #FFFFFF;  line-height: 6px;  padding: 0 0.5em;}\n",
       ".datatable .bool    { background: #DDDD99; }\n",
       ".datatable .object  { background: #565656; }\n",
       ".datatable .int     { background: #5D9E5D; }\n",
       ".datatable .float   { background: #4040CC; }\n",
       ".datatable .str     { background: #CC4040; }\n",
       ".datatable .row_index {  background: var(--jp-border-color3);  border-right: 1px solid var(--jp-border-color0);  color: var(--jp-ui-font-color3);  font-size: 9px;}\n",
       ".datatable .frame tr.coltypes .row_index {  background: var(--jp-border-color0);}\n",
       ".datatable th:nth-child(2) { padding-left: 12px; }\n",
       ".datatable .hellipsis {  color: var(--jp-cell-editor-border-color);}\n",
       ".datatable .vellipsis {  background: var(--jp-layout-color0);  color: var(--jp-cell-editor-border-color);}\n",
       ".datatable .na {  color: var(--jp-cell-editor-border-color);  font-size: 80%;}\n",
       ".datatable .footer { font-size: 9px; }\n",
       ".datatable .frame_dimensions {  background: var(--jp-border-color3);  border-top: 1px solid var(--jp-border-color0);  color: var(--jp-ui-font-color3);  display: inline-block;  opacity: 0.6;  padding: 1px 10px 1px 5px;}\n",
       "</style>\n"
      ],
      "text/plain": [
       "<IPython.core.display.HTML object>"
      ]
     },
     "metadata": {},
     "output_type": "display_data"
    },
    {
     "name": "stdout",
     "output_type": "stream",
     "text": [
      "current_round 301\n"
     ]
    }
   ],
   "source": [
    "from pathlib import Path\n",
    "import pickle\n",
    "import json\n",
    "\n",
    "from IPython import embed\n",
    "import numerapi\n",
    "from numerapi import NumerAPI\n",
    "import pandas as pd\n",
    "import numpy as np\n",
    "import matplotlib.pyplot as plt\n",
    "import xgboost as xgb\n",
    "import lightgbm as lgb\n",
    "import numpy_indexed as npi\n",
    "import warnings\n",
    "warnings.simplefilter('ignore')\n",
    "plt.style.use('fivethirtyeight')\n",
    "\n",
    "napi = numerapi.NumerAPI(verbosity=\"info\")\n",
    "current_round = napi.get_current_round()  # 現在のroundを取得\n",
    "print('current_round', current_round)\n",
    "\n",
    "\n",
    "def sizeof_fmt(num, suffix='B'):\n",
    "    \"\"\"読みやすいように単位をつける\"\"\"\n",
    "    for unit in ['','Ki','Mi','Gi','Ti','Pi','Ei','Zi']:\n",
    "        if abs(num) < 1024.0:\n",
    "            return \"%3.1f%s%s\" % (num, unit, suffix)\n",
    "        num /= 1024.0\n",
    "    return \"%.1f%s%s\" % (num, 'Yi', suffix)\n",
    "\n",
    "\n",
    "def get_memory_usage_from_df(df: pd.DataFrame):\n",
    "    \"\"\"dataframeのサイズを返す\"\"\"\n",
    "    return sizeof_fmt(df.memory_usage(index=True).sum())     \n",
    "\n",
    "\n",
    "def get_massive_data(mode: str, round: int):\n",
    "    \"\"\"\n",
    "    mode: training, validation, tournament\n",
    "    round: ラウンド数\n",
    "    \"\"\"\n",
    "    parquet_path = Path(f'{mode}_data_int8_{current_round}.parquet')\n",
    "    if not parquet_path.is_file():\n",
    "        napi.download_dataset(filename=f\"numerai_{mode}_data_int8.parquet\",\n",
    "                              dest_path=str(parquet_path),\n",
    "                              round_num=round)\n",
    "    df = pd.read_parquet(f'{mode}_data_int8_{current_round}.parquet')\n",
    "    return df"
   ]
  },
  {
   "cell_type": "markdown",
   "metadata": {
    "id": "zpavTiKiUBA4"
   },
   "source": [
    "## データの取得"
   ]
  },
  {
   "cell_type": "code",
   "execution_count": 8,
   "metadata": {
    "colab": {
     "base_uri": "https://localhost:8080/"
    },
    "execution": {
     "iopub.status.busy": "2021-12-16T14:37:37.259119Z",
     "iopub.status.idle": "2021-12-16T14:37:37.259890Z",
     "shell.execute_reply": "2021-12-16T14:37:37.259614Z",
     "shell.execute_reply.started": "2021-12-16T14:37:37.259584Z"
    },
    "executionInfo": {
     "elapsed": 13250,
     "status": "ok",
     "timestamp": 1640935942651,
     "user": {
      "displayName": "村田秀樹",
      "photoUrl": "https://lh3.googleusercontent.com/a/default-user=s64",
      "userId": "10971275251993005322"
     },
     "user_tz": -540
    },
    "id": "pzSnc5HDiiwu",
    "outputId": "2c124e2e-64d1-4e39-b029-04cd6d706250"
   },
   "outputs": [
    {
     "name": "stderr",
     "output_type": "stream",
     "text": [
      "2022-02-03 18:02:39,761 INFO numerapi.utils: starting download\n",
      "\n",
      "\n",
      "features.json:   0%|          | 0.00/441k [00:00<?, ?B/s]\u001b[A\u001b[A\n",
      "\n",
      "features.json:   4%|▍         | 17.4k/441k [00:00<00:02, 154kB/s]\u001b[A\u001b[A\n",
      "\n",
      "features.json:  12%|█▏        | 52.2k/441k [00:00<00:02, 182kB/s]\u001b[A\u001b[A\n",
      "\n",
      "features.json:  28%|██▊       | 122k/441k [00:00<00:01, 231kB/s] \u001b[A\u001b[A\n",
      "\n",
      "features.json: 441kB [00:00, 924kB/s]                           \u001b[A\u001b[A\n",
      "training_data_int8_301.parquet:   8%|▊         | 83.3M/1.01G [08:49<1:38:30, 157kB/s]"
     ]
    },
    {
     "name": "stdout",
     "output_type": "stream",
     "text": [
      "train: 2.6GiB (2412105, 1073)\n",
      "valid: 596.0MiB (539658, 1073)\n"
     ]
    },
    {
     "name": "stderr",
     "output_type": "stream",
     "text": [
      "\n"
     ]
    }
   ],
   "source": [
    "train = get_massive_data('training', current_round)\n",
    "valid = get_massive_data('validation', current_round)\n",
    "napi.download_dataset('features.json', 'features.json')\n",
    "with open(\"features.json\", \"r\") as f:\n",
    "    feature_metadata = json.load(f)\n",
    "    \n",
    "print('train:', get_memory_usage_from_df(train), train.shape)\n",
    "print('valid:', get_memory_usage_from_df(valid), valid.shape)"
   ]
  },
  {
   "cell_type": "markdown",
   "metadata": {
    "id": "lkbk2qHXU0T4"
   },
   "source": [
    "## targetの割合"
   ]
  },
  {
   "cell_type": "code",
   "execution_count": 9,
   "metadata": {
    "colab": {
     "base_uri": "https://localhost:8080/",
     "height": 296
    },
    "executionInfo": {
     "elapsed": 15,
     "status": "ok",
     "timestamp": 1640935942652,
     "user": {
      "displayName": "村田秀樹",
      "photoUrl": "https://lh3.googleusercontent.com/a/default-user=s64",
      "userId": "10971275251993005322"
     },
     "user_tz": -540
    },
    "id": "FR6h-8uLz9zD",
    "outputId": "b74b6e52-b809-49f3-cca5-c7e927b05543"
   },
   "outputs": [
    {
     "data": {
      "image/png": "[encoded data removed]",
      "text/plain": [
       "<Figure size 432x288 with 1 Axes>"
      ]
     },
     "metadata": {},
     "output_type": "display_data"
    }
   ],
   "source": [
    "plt.hist(train['target'], bins=20)\n",
    "plt.show()"
   ]
  },
  {
   "cell_type": "markdown",
   "metadata": {
    "id": "md6VDSkXa0ic"
   },
   "source": [
    "## LihgtGBM"
   ]
  },
  {
   "cell_type": "code",
   "execution_count": 14,
   "metadata": {},
   "outputs": [
    {
     "data": {
      "text/plain": [
       "38"
      ]
     },
     "execution_count": 14,
     "metadata": {},
     "output_type": "execute_result"
    }
   ],
   "source": [
    "features = feature_metadata['feature_sets']['small']\n",
    "len(features)"
   ]
  },
  {
   "cell_type": "code",
   "execution_count": 18,
   "metadata": {
    "execution": {
     "iopub.execute_input": "2021-12-16T16:50:45.286958Z",
     "iopub.status.busy": "2021-12-16T16:50:45.286320Z",
     "iopub.status.idle": "2021-12-16T16:52:26.823726Z",
     "shell.execute_reply": "2021-12-16T16:52:26.822946Z",
     "shell.execute_reply.started": "2021-12-16T16:50:45.286910Z"
    },
    "executionInfo": {
     "elapsed": 12,
     "status": "ok",
     "timestamp": 1640935943653,
     "user": {
      "displayName": "村田秀樹",
      "photoUrl": "https://lh3.googleusercontent.com/a/default-user=s64",
      "userId": "10971275251993005322"
     },
     "user_tz": -540
    },
    "id": "lY6HOrPwiiww"
   },
   "outputs": [],
   "source": [
    "class CFG:\n",
    "    target_col = 'target'\n",
    "\n",
    "\n",
    "lgb_params = {'objective': 'regression',\n",
    "              'metric': 'None',\n",
    "              'first_metric_only': True,\n",
    "              'boosting_type': 'gbdt',\n",
    "              \"num_leaves\": 63,\n",
    "              \"max_depth\": 6,\n",
    "              'learning_rate': 0.03, \n",
    "              'min_data_in_leaf': 100,\n",
    "              'verbosity': -1\n",
    "              }\n",
    "\n",
    "\n",
    "def compute_corr_for_lgb(preds, target):\n",
    "    # validの全体の平均を返すmetric\n",
    "    preds_rank = pd.Series(preds).rank(pct=True, method=\"first\")\n",
    "    corr = np.corrcoef(preds_rank, target.get_label())[0, 1]\n",
    "    return 'corr', corr, True\n",
    "\n",
    "\n",
    "def single_lgb(train, valid, features, params, feval=None):\n",
    "\n",
    "    d_train = lgb.Dataset(train[features].values,\n",
    "                          train[CFG.target_col].values,\n",
    "                          feature_name=features)\n",
    "    d_eval = lgb.Dataset(valid[features].values,\n",
    "                         valid[CFG.target_col].values,\n",
    "                         feature_name=features)\n",
    "    evals_result = {}\n",
    "    model = lgb.train(params,\n",
    "                      d_train,\n",
    "                      num_boost_round=10000,\n",
    "                      valid_sets=[d_train, d_eval],\n",
    "                      early_stopping_rounds=None,\n",
    "                      evals_result=evals_result,\n",
    "                      verbose_eval=300,\n",
    "                      feval=feval)\n",
    "    return model, evals_result"
   ]
  },
  {
   "cell_type": "code",
   "execution_count": 19,
   "metadata": {
    "executionInfo": {
     "elapsed": 2766,
     "status": "ok",
     "timestamp": 1640936001675,
     "user": {
      "displayName": "村田秀樹",
      "photoUrl": "https://lh3.googleusercontent.com/a/default-user=s64",
      "userId": "10971275251993005322"
     },
     "user_tz": -540
    },
    "id": "kyDA-WnsurZK"
   },
   "outputs": [],
   "source": [
    "class MetricCorr:\n",
    "    def __init__(self, era_group: pd.Series):\n",
    "        self.group = npi.group_by(era_group.values)\n",
    "\n",
    "    def corrs(self, preds, target):\n",
    "        labels = self.group.split(target)\n",
    "        preds_rank = [pd.Series(p).rank(pct=True, method=\"first\").values for p in self.group.split(preds)]\n",
    "        corr_list = [np.corrcoef(preds, rank)[0, 1] for preds, rank in zip(preds_rank, labels)]\n",
    "        return corr_list\n",
    "\n",
    "    def corr_mean_lgb(self, preds: np.ndarray, data: lgb.Dataset):\n",
    "        labels = self.group.split(data.get_label())\n",
    "        preds_rank = [pd.Series(p).rank(pct=True, method=\"first\").values for p in self.group.split(preds)]\n",
    "        corr_mean = np.mean([np.corrcoef(preds, rank)[0, 1] for preds, rank in zip(preds_rank, labels)])\n",
    "        return 'corr_mean', corr_mean, True\n",
    "\n",
    "    def corr_mean_xgb(self, preds: np.ndarray, data: xgb.DMatrix):\n",
    "        # https://xgboost.readthedocs.io/en/latest/tutorials/custom_metric_obj.html#customized-metric-function\n",
    "        labels = self.group.split(data.get_label())\n",
    "        preds_rank = [pd.Series(p).rank(pct=True, method=\"first\").values for p in self.group.split(preds)]\n",
    "        corr_mean = np.mean([np.corrcoef(preds, rank)[0, 1] for preds, rank in zip(preds_rank, labels)])\n",
    "        return 'corr_mean', corr_mean"
   ]
  },
  {
   "cell_type": "code",
   "execution_count": 20,
   "metadata": {
    "colab": {
     "base_uri": "https://localhost:8080/"
    },
    "executionInfo": {
     "elapsed": 25391,
     "status": "ok",
     "timestamp": 1640936027061,
     "user": {
      "displayName": "村田秀樹",
      "photoUrl": "https://lh3.googleusercontent.com/a/default-user=s64",
      "userId": "10971275251993005322"
     },
     "user_tz": -540
    },
    "id": "3usmo7UWurTu",
    "outputId": "e7ef9a3f-b17e-480f-d2e3-261d13101cfc"
   },
   "outputs": [
    {
     "name": "stdout",
     "output_type": "stream",
     "text": [
      "[300]\ttraining's corr_mean: 0.120404\tvalid_1's corr_mean: 0.0214845\n",
      "[600]\ttraining's corr_mean: 0.149998\tvalid_1's corr_mean: 0.0222325\n",
      "[900]\ttraining's corr_mean: 0.172813\tvalid_1's corr_mean: 0.0223343\n",
      "[1200]\ttraining's corr_mean: 0.192804\tvalid_1's corr_mean: 0.0224258\n",
      "[1500]\ttraining's corr_mean: 0.210161\tvalid_1's corr_mean: 0.021533\n",
      "[1800]\ttraining's corr_mean: 0.225268\tvalid_1's corr_mean: 0.0211431\n",
      "[2100]\ttraining's corr_mean: 0.239177\tvalid_1's corr_mean: 0.0210369\n",
      "[2400]\ttraining's corr_mean: 0.251252\tvalid_1's corr_mean: 0.0204807\n",
      "[2700]\ttraining's corr_mean: 0.262604\tvalid_1's corr_mean: 0.0199965\n",
      "[3000]\ttraining's corr_mean: 0.273046\tvalid_1's corr_mean: 0.0197943\n",
      "[3300]\ttraining's corr_mean: 0.283128\tvalid_1's corr_mean: 0.0194786\n",
      "[3600]\ttraining's corr_mean: 0.291961\tvalid_1's corr_mean: 0.0198657\n",
      "[3900]\ttraining's corr_mean: 0.300388\tvalid_1's corr_mean: 0.0197961\n",
      "[4200]\ttraining's corr_mean: 0.308973\tvalid_1's corr_mean: 0.0192796\n",
      "[4500]\ttraining's corr_mean: 0.3167\tvalid_1's corr_mean: 0.0190439\n",
      "[4800]\ttraining's corr_mean: 0.323805\tvalid_1's corr_mean: 0.0187117\n",
      "[5100]\ttraining's corr_mean: 0.32975\tvalid_1's corr_mean: 0.0185266\n",
      "[5400]\ttraining's corr_mean: 0.336691\tvalid_1's corr_mean: 0.0183126\n",
      "[5700]\ttraining's corr_mean: 0.342768\tvalid_1's corr_mean: 0.0180506\n",
      "[6000]\ttraining's corr_mean: 0.348995\tvalid_1's corr_mean: 0.0181033\n",
      "[6300]\ttraining's corr_mean: 0.354735\tvalid_1's corr_mean: 0.0181172\n",
      "[6600]\ttraining's corr_mean: 0.360644\tvalid_1's corr_mean: 0.0180669\n",
      "[6900]\ttraining's corr_mean: 0.366049\tvalid_1's corr_mean: 0.0179718\n",
      "[7200]\ttraining's corr_mean: 0.37131\tvalid_1's corr_mean: 0.0177137\n",
      "[7500]\ttraining's corr_mean: 0.376218\tvalid_1's corr_mean: 0.0175203\n",
      "[7800]\ttraining's corr_mean: 0.381225\tvalid_1's corr_mean: 0.0172085\n",
      "[8100]\ttraining's corr_mean: 0.386059\tvalid_1's corr_mean: 0.0170745\n",
      "[8400]\ttraining's corr_mean: 0.390752\tvalid_1's corr_mean: 0.0172006\n",
      "[8700]\ttraining's corr_mean: 0.394851\tvalid_1's corr_mean: 0.0172646\n",
      "[9000]\ttraining's corr_mean: 0.399287\tvalid_1's corr_mean: 0.0169026\n",
      "[9300]\ttraining's corr_mean: 0.403636\tvalid_1's corr_mean: 0.0164944\n",
      "[9600]\ttraining's corr_mean: 0.407469\tvalid_1's corr_mean: 0.0163835\n",
      "[9900]\ttraining's corr_mean: 0.411274\tvalid_1's corr_mean: 0.0163554\n"
     ]
    }
   ],
   "source": [
    "metric = MetricCorr(valid['era'])\n",
    "model, evals_result = single_lgb(train, valid, features, lgb_params, metric.corr_mean_lgb)"
   ]
  },
  {
   "cell_type": "markdown",
   "metadata": {},
   "source": [
    "## roundを変えてpredictを出す"
   ]
  },
  {
   "cell_type": "code",
   "execution_count": 23,
   "metadata": {
    "id": "hE3pLYJ3Z2eH"
   },
   "outputs": [],
   "source": [
    "round_list = [100, 500, 1000, 3000, 5000, 10000]\n",
    "val_pred_list = []\n",
    "\n",
    "for num_round in round_list:\n",
    "    val_pred_list.append(model.predict(valid[features], num_iteration=num_round))"
   ]
  },
  {
   "cell_type": "code",
   "execution_count": 28,
   "metadata": {},
   "outputs": [
    {
     "data": {
      "text/plain": [
       "<matplotlib.legend.Legend at 0x7f69be4983a0>"
      ]
     },
     "execution_count": 28,
     "metadata": {},
     "output_type": "execute_result"
    },
    {
     "data": {
      "image/png": "[encoded data removed]",
      "text/plain": [
       "<Figure size 432x288 with 1 Axes>"
      ]
     },
     "metadata": {},
     "output_type": "display_data"
    }
   ],
   "source": [
    "for pred, num_round in zip(val_pred_list, round_list):\n",
    "    plt.hist(pred, label=f'round: {num_round}', alpha=0.3 ,bins=50, range=(0.3, 0.7))\n",
    "plt.legend()"
   ]
  },
  {
   "cell_type": "code",
   "execution_count": 38,
   "metadata": {},
   "outputs": [],
   "source": [
    "metric = MetricCorr(valid['era'])\n",
    "metric_list = []\n",
    "for i in range(6):\n",
    "   metric_list.append(np.mean(metric.corrs(valid['target'], val_pred_list[i])))"
   ]
  },
  {
   "cell_type": "code",
   "execution_count": 42,
   "metadata": {},
   "outputs": [
    {
     "data": {
      "text/plain": [
       "[0.018303046912392082,\n",
       " 0.02123383898947741,\n",
       " 0.02161743235488168,\n",
       " 0.019682810439717556,\n",
       " 0.018014592302132086,\n",
       " 0.015970691481497264]"
      ]
     },
     "execution_count": 42,
     "metadata": {},
     "output_type": "execute_result"
    }
   ],
   "source": [
    "metric_list"
   ]
  },
  {
   "cell_type": "code",
   "execution_count": 46,
   "metadata": {},
   "outputs": [
    {
     "data": {
      "image/png": "[encoded data removed]",
      "text/plain": [
       "<Figure size 720x720 with 6 Axes>"
      ]
     },
     "metadata": {},
     "output_type": "display_data"
    }
   ],
   "source": [
    "plt.figure(figsize=(10, 10))\n",
    "for i in range(6):\n",
    "    plt.subplot(3, 2, i + 1)\n",
    "    plt.hist(val_pred_list[i], bins=50, range=(0.3, 0.7))\n",
    "    plt.title(f'round: {round_list[i]}, cv: {np.round(metric_list[i], 4)}')\n",
    "plt.tight_layout()"
   ]
  }
 ],
 "metadata": {
  "accelerator": "GPU",
  "colab": {
   "background_execution": "on",
   "collapsed_sections": [],
   "machine_shape": "hm",
   "name": "numerai-meetup-massive-data2.ipynb",
   "provenance": []
  },
  "kernelspec": {
   "display_name": "Python 3",
   "language": "python",
   "name": "python3"
  },
  "language_info": {
   "codemirror_mode": {
    "name": "ipython",
    "version": 3
   },
   "file_extension": ".py",
   "mimetype": "text/x-python",
   "name": "python",
   "nbconvert_exporter": "python",
   "pygments_lexer": "ipython3",
   "version": "3.8.5"
  },
  "toc": {
   "base_numbering": 1,
   "nav_menu": {},
   "number_sections": true,
   "sideBar": true,
   "skip_h1_title": false,
   "title_cell": "Table of Contents",
   "title_sidebar": "Contents",
   "toc_cell": false,
   "toc_position": {},
   "toc_section_display": true,
   "toc_window_display": false
  }
 },
 "nbformat": 4,
 "nbformat_minor": 1
}
